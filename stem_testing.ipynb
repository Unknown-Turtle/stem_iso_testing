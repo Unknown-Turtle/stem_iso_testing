{
  "cells": [
    {
      "cell_type": "markdown",
      "metadata": {
        "id": "view-in-github",
        "colab_type": "text"
      },
      "source": [
        "<a href=\"https://colab.research.google.com/github/Unknown-Turtle/stem_iso_testing/blob/main/stem_testing.ipynb\" target=\"_parent\"><img src=\"https://colab.research.google.com/assets/colab-badge.svg\" alt=\"Open In Colab\"/></a>"
      ]
    },
    {
      "cell_type": "markdown",
      "metadata": {
        "id": "K6mcSc0mmp3i"
      },
      "source": [
        "# Using spleeter"
      ]
    },
    {
      "cell_type": "code",
      "execution_count": null,
      "metadata": {
        "id": "f8Brdfh6mzEz"
      },
      "outputs": [],
      "source": [
        "!apt install ffmpeg"
      ]
    },
    {
      "cell_type": "code",
      "execution_count": null,
      "metadata": {
        "id": "V_6Ram1lmc1F"
      },
      "outputs": [],
      "source": [
        "pip install spleeter"
      ]
    },
    {
      "cell_type": "code",
      "execution_count": null,
      "metadata": {
        "id": "W0LktyMypXqE"
      },
      "outputs": [],
      "source": [
        "from IPython.display import Audio"
      ]
    },
    {
      "cell_type": "markdown",
      "metadata": {
        "id": "afbcUSken16L"
      },
      "source": [
        "# Separate from command line"
      ]
    },
    {
      "cell_type": "code",
      "source": [
        "# Note: i've only done this on mac with a conda venv"
      ],
      "metadata": {
        "id": "l_Db0dF8-Djj"
      },
      "execution_count": null,
      "outputs": []
    },
    {
      "cell_type": "code",
      "execution_count": null,
      "metadata": {
        "id": "O1kQaoJSoAD0"
      },
      "outputs": [],
      "source": [
        "!wget https://github.com/deezer/spleeter/raw/master/audio_example.mp3"
      ]
    },
    {
      "cell_type": "code",
      "execution_count": null,
      "metadata": {
        "id": "ibG6uF55p4lH"
      },
      "outputs": [],
      "source": [
        "Audio('audio.mp3')"
      ]
    },
    {
      "cell_type": "code",
      "execution_count": null,
      "metadata": {
        "id": "kOAqBcPhn6IU"
      },
      "outputs": [],
      "source": [
        "!spleeter separate -h"
      ]
    },
    {
      "cell_type": "code",
      "execution_count": null,
      "metadata": {
        "id": "dGL-k5xxoKbu"
      },
      "outputs": [],
      "source": [
        "!spleeter separate -o output/ audio_example.mp3"
      ]
    },
    {
      "cell_type": "code",
      "execution_count": null,
      "metadata": {
        "id": "IDuPWcAMoZP_"
      },
      "outputs": [],
      "source": [
        "!ls output/audio_example"
      ]
    },
    {
      "cell_type": "code",
      "execution_count": null,
      "metadata": {
        "id": "e7CHpyiloxrk"
      },
      "outputs": [],
      "source": [
        "Audio('output/audio/vocals.wav')"
      ]
    },
    {
      "cell_type": "code",
      "execution_count": null,
      "metadata": {
        "id": "ibXd-WCTpT0w"
      },
      "outputs": [],
      "source": [
        "Audio('output/audio/accompaniment.wav')"
      ]
    },
    {
      "cell_type": "markdown",
      "source": [
        "# Using demucs"
      ],
      "metadata": {
        "id": "MLsQ8xpu-iyl"
      }
    },
    {
      "cell_type": "code",
      "source": [
        "!pip install demucs -q\n",
        "!apt-get install ffmpeg -y"
      ],
      "metadata": {
        "id": "_ysYw6uX_Uqs"
      },
      "execution_count": null,
      "outputs": []
    },
    {
      "cell_type": "code",
      "source": [
        "# Basic usage: separate into 4 stems (vocals, drums, bass, other)\n",
        "!demucs audio.mp3"
      ],
      "metadata": {
        "id": "7prUTmqiBWlm"
      },
      "execution_count": null,
      "outputs": []
    },
    {
      "cell_type": "code",
      "source": [
        "# ## 4. Using different models\n",
        "# htdemucs (Hybrid Transformer) model, higher quality\n",
        "!demucs -n htdemucs -o output audio.mp3"
      ],
      "metadata": {
        "id": "BdYZXQhWB13D"
      },
      "execution_count": null,
      "outputs": []
    },
    {
      "cell_type": "code",
      "source": [
        "# 6-stem model for more detailed separation (vocals, drums, bass, piano, guitar, other)\n",
        "!demucs -n htdemucs_6s -o output audio.mp3"
      ],
      "metadata": {
        "id": "3VgYOvERB4kO"
      },
      "execution_count": null,
      "outputs": []
    },
    {
      "cell_type": "code",
      "source": [
        "# ## 5. Only separate vocals vs everything else\n",
        "!demucs --two-stems=vocals -o output audio.mp3"
      ],
      "metadata": {
        "id": "7gkMnIGRB6QD"
      },
      "execution_count": null,
      "outputs": []
    }
  ],
  "metadata": {
    "colab": {
      "name": "spleeter.ipynb",
      "provenance": [],
      "include_colab_link": true
    },
    "kernelspec": {
      "display_name": "Python 3",
      "name": "python3"
    }
  },
  "nbformat": 4,
  "nbformat_minor": 0
}